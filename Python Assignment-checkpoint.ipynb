{
 "cells": [
  {
   "cell_type": "code",
   "execution_count": 1,
   "id": "9b34a23a",
   "metadata": {},
   "outputs": [
    {
     "name": "stdout",
     "output_type": "stream",
     "text": [
      "Twinkle, twinkle, little star, \n",
      "\tHow I wonder what you are! \n",
      "\t\tUp above the world so high, \n",
      "\t\tLike a diamond in the sky. \n",
      "Twinkle, twinkle, little star, \n",
      "\tHow I wonder what you are!\n"
     ]
    }
   ],
   "source": [
    "print(\"Twinkle, twinkle, little star, \\n\\tHow I wonder what you are! \\n\\t\\\n",
    "tUp above the world so high, \\n\\t\\tLike a diamond in the sky. \\n\n",
    "Twinkle, twinkle, little star, \\n\\tHow I wonder what you are!\")\n"
   ]
  },
  {
   "cell_type": "code",
   "execution_count": 2,
   "id": "0db3eb4e",
   "metadata": {},
   "outputs": [
    {
     "name": "stdout",
     "output_type": "stream",
     "text": [
      "Python version\n",
      "3.8.8 (default, Apr 13 2021, 15:08:03) [MSC v.1916 64 bit (AMD64)]\n",
      "Version info.\n",
      "sys.version_info(major=3, minor=8, micro=8, releaselevel='final', serial=0)\n"
     ]
    }
   ],
   "source": [
    "import sys\n",
    "print(\"Python version\")\n",
    "print (sys.version)\n",
    "print(\"Version info.\")\n",
    "print (sys.version_info)"
   ]
  },
  {
   "cell_type": "code",
   "execution_count": 3,
   "id": "d4840f7c",
   "metadata": {},
   "outputs": [
    {
     "name": "stdout",
     "output_type": "stream",
     "text": [
      "Current date and time : \n",
      "2021-12-30 05:48:44\n"
     ]
    }
   ],
   "source": [
    "import datetime\n",
    "now = datetime.datetime.now()\n",
    "print (\"Current date and time : \")\n",
    "print (now.strftime(\"%Y-%m-%d %H:%M:%S\"))"
   ]
  },
  {
   "cell_type": "code",
   "execution_count": 4,
   "id": "ae3b5fec",
   "metadata": {},
   "outputs": [
    {
     "name": "stdout",
     "output_type": "stream",
     "text": [
      "Enter The radius of Circle 3\n",
      "Area of circle:  18.84\n"
     ]
    }
   ],
   "source": [
    "pi = 3.14\n",
    "r = float(input(\"Enter The radius of Circle \"))\n",
    "x = 2*pi*r\n",
    "print(\"Area of circle: \",+x)"
   ]
  },
  {
   "cell_type": "code",
   "execution_count": 5,
   "id": "07d480de",
   "metadata": {},
   "outputs": [
    {
     "name": "stdout",
     "output_type": "stream",
     "text": [
      "Enter the First name Maqsood\n",
      "Enter the 2nd name Ahmed\n",
      "Ahmed Maqsood\n"
     ]
    }
   ],
   "source": [
    "n1 = str(input(\"Enter the First name \"))\n",
    "n2 = str(input(\"Enter the 2nd name \"))\n",
    "print(n2+\" \"+n1)"
   ]
  },
  {
   "cell_type": "code",
   "execution_count": 6,
   "id": "e6e8ade5",
   "metadata": {},
   "outputs": [
    {
     "name": "stdout",
     "output_type": "stream",
     "text": [
      "Enter number one 4\n",
      "Enter number two 5\n",
      "sum of both:  9\n"
     ]
    }
   ],
   "source": [
    "x = int(input(\"Enter number one \"))\n",
    "y = int(input(\"Enter number two \"))\n",
    "print(\"sum of both: \",x+y)"
   ]
  },
  {
   "cell_type": "code",
   "execution_count": null,
   "id": "c16eac88",
   "metadata": {},
   "outputs": [],
   "source": []
  }
 ],
 "metadata": {
  "kernelspec": {
   "display_name": "Python 3",
   "language": "python",
   "name": "python3"
  },
  "language_info": {
   "codemirror_mode": {
    "name": "ipython",
    "version": 3
   },
   "file_extension": ".py",
   "mimetype": "text/x-python",
   "name": "python",
   "nbconvert_exporter": "python",
   "pygments_lexer": "ipython3",
   "version": "3.8.8"
  }
 },
 "nbformat": 4,
 "nbformat_minor": 5
}
